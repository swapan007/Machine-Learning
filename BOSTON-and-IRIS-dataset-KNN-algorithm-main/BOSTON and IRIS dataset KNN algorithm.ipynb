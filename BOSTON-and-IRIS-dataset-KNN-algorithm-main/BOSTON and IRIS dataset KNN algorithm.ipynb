{
 "cells": [
  {
   "cell_type": "markdown",
   "id": "05be41a8",
   "metadata": {},
   "source": [
    "# Importing libraries"
   ]
  },
  {
   "cell_type": "code",
   "execution_count": 1,
   "id": "aadcd0d3",
   "metadata": {},
   "outputs": [],
   "source": [
    "import pandas as pd\n",
    "import numpy as np\n",
    "from matplotlib import pyplot as plt\n",
    "import seaborn as sns"
   ]
  },
  {
   "cell_type": "markdown",
   "id": "7d4b50da",
   "metadata": {},
   "source": [
    "# importing datasets"
   ]
  },
  {
   "cell_type": "code",
   "execution_count": 6,
   "id": "39468833",
   "metadata": {},
   "outputs": [],
   "source": [
    "# boston dataset\n",
    "boston=pd.read_csv(r\"https://raw.githubusercontent.com/swapan007/My-Notes-Machine-Learning/master/datasets/Boston.csv\")\n",
    "# iris dataset\n",
    "iris=pd.read_csv(r\"https://raw.githubusercontent.com/swapan007/My-Notes-Machine-Learning/master/datasets/IRIS.csv\")"
   ]
  },
  {
   "cell_type": "code",
   "execution_count": 7,
   "id": "3841ba4b",
   "metadata": {},
   "outputs": [
    {
     "data": {
      "text/html": [
       "<div>\n",
       "<style scoped>\n",
       "    .dataframe tbody tr th:only-of-type {\n",
       "        vertical-align: middle;\n",
       "    }\n",
       "\n",
       "    .dataframe tbody tr th {\n",
       "        vertical-align: top;\n",
       "    }\n",
       "\n",
       "    .dataframe thead th {\n",
       "        text-align: right;\n",
       "    }\n",
       "</style>\n",
       "<table border=\"1\" class=\"dataframe\">\n",
       "  <thead>\n",
       "    <tr style=\"text-align: right;\">\n",
       "      <th></th>\n",
       "      <th>CRIM</th>\n",
       "      <th>ZN</th>\n",
       "      <th>INDUS</th>\n",
       "      <th>CHAS</th>\n",
       "      <th>NX</th>\n",
       "      <th>RM</th>\n",
       "      <th>AGE</th>\n",
       "      <th>DIS</th>\n",
       "      <th>RAD</th>\n",
       "      <th>TAX</th>\n",
       "      <th>PTRATIO</th>\n",
       "      <th>B</th>\n",
       "      <th>LSTAT</th>\n",
       "      <th>MEDV</th>\n",
       "    </tr>\n",
       "  </thead>\n",
       "  <tbody>\n",
       "    <tr>\n",
       "      <th>0</th>\n",
       "      <td>0.00632</td>\n",
       "      <td>18.0</td>\n",
       "      <td>2.31</td>\n",
       "      <td>0</td>\n",
       "      <td>0.538</td>\n",
       "      <td>6.575</td>\n",
       "      <td>65.2</td>\n",
       "      <td>4.0900</td>\n",
       "      <td>1</td>\n",
       "      <td>296.0</td>\n",
       "      <td>15.3</td>\n",
       "      <td>396.90</td>\n",
       "      <td>4.98</td>\n",
       "      <td>24.0</td>\n",
       "    </tr>\n",
       "    <tr>\n",
       "      <th>1</th>\n",
       "      <td>0.02731</td>\n",
       "      <td>0.0</td>\n",
       "      <td>7.07</td>\n",
       "      <td>0</td>\n",
       "      <td>0.469</td>\n",
       "      <td>6.421</td>\n",
       "      <td>78.9</td>\n",
       "      <td>4.9671</td>\n",
       "      <td>2</td>\n",
       "      <td>242.0</td>\n",
       "      <td>17.8</td>\n",
       "      <td>396.90</td>\n",
       "      <td>9.14</td>\n",
       "      <td>21.6</td>\n",
       "    </tr>\n",
       "    <tr>\n",
       "      <th>2</th>\n",
       "      <td>0.02729</td>\n",
       "      <td>0.0</td>\n",
       "      <td>7.07</td>\n",
       "      <td>0</td>\n",
       "      <td>0.469</td>\n",
       "      <td>7.185</td>\n",
       "      <td>61.1</td>\n",
       "      <td>4.9671</td>\n",
       "      <td>2</td>\n",
       "      <td>242.0</td>\n",
       "      <td>17.8</td>\n",
       "      <td>392.83</td>\n",
       "      <td>4.03</td>\n",
       "      <td>34.7</td>\n",
       "    </tr>\n",
       "    <tr>\n",
       "      <th>3</th>\n",
       "      <td>0.03237</td>\n",
       "      <td>0.0</td>\n",
       "      <td>2.18</td>\n",
       "      <td>0</td>\n",
       "      <td>0.458</td>\n",
       "      <td>6.998</td>\n",
       "      <td>45.8</td>\n",
       "      <td>6.0622</td>\n",
       "      <td>3</td>\n",
       "      <td>222.0</td>\n",
       "      <td>18.7</td>\n",
       "      <td>394.63</td>\n",
       "      <td>2.94</td>\n",
       "      <td>33.4</td>\n",
       "    </tr>\n",
       "    <tr>\n",
       "      <th>4</th>\n",
       "      <td>0.06905</td>\n",
       "      <td>0.0</td>\n",
       "      <td>2.18</td>\n",
       "      <td>0</td>\n",
       "      <td>0.458</td>\n",
       "      <td>7.147</td>\n",
       "      <td>54.2</td>\n",
       "      <td>6.0622</td>\n",
       "      <td>3</td>\n",
       "      <td>222.0</td>\n",
       "      <td>18.7</td>\n",
       "      <td>396.90</td>\n",
       "      <td>5.33</td>\n",
       "      <td>36.2</td>\n",
       "    </tr>\n",
       "  </tbody>\n",
       "</table>\n",
       "</div>"
      ],
      "text/plain": [
       "      CRIM    ZN  INDUS  CHAS     NX     RM   AGE     DIS  RAD    TAX  \\\n",
       "0  0.00632  18.0   2.31     0  0.538  6.575  65.2  4.0900    1  296.0   \n",
       "1  0.02731   0.0   7.07     0  0.469  6.421  78.9  4.9671    2  242.0   \n",
       "2  0.02729   0.0   7.07     0  0.469  7.185  61.1  4.9671    2  242.0   \n",
       "3  0.03237   0.0   2.18     0  0.458  6.998  45.8  6.0622    3  222.0   \n",
       "4  0.06905   0.0   2.18     0  0.458  7.147  54.2  6.0622    3  222.0   \n",
       "\n",
       "   PTRATIO       B  LSTAT  MEDV  \n",
       "0     15.3  396.90   4.98  24.0  \n",
       "1     17.8  396.90   9.14  21.6  \n",
       "2     17.8  392.83   4.03  34.7  \n",
       "3     18.7  394.63   2.94  33.4  \n",
       "4     18.7  396.90   5.33  36.2  "
      ]
     },
     "execution_count": 7,
     "metadata": {},
     "output_type": "execute_result"
    }
   ],
   "source": [
    "boston.head()"
   ]
  },
  {
   "cell_type": "code",
   "execution_count": 8,
   "id": "b11c7528",
   "metadata": {},
   "outputs": [
    {
     "data": {
      "text/html": [
       "<div>\n",
       "<style scoped>\n",
       "    .dataframe tbody tr th:only-of-type {\n",
       "        vertical-align: middle;\n",
       "    }\n",
       "\n",
       "    .dataframe tbody tr th {\n",
       "        vertical-align: top;\n",
       "    }\n",
       "\n",
       "    .dataframe thead th {\n",
       "        text-align: right;\n",
       "    }\n",
       "</style>\n",
       "<table border=\"1\" class=\"dataframe\">\n",
       "  <thead>\n",
       "    <tr style=\"text-align: right;\">\n",
       "      <th></th>\n",
       "      <th>sepal_length</th>\n",
       "      <th>sepal_width</th>\n",
       "      <th>petal_length</th>\n",
       "      <th>petal_width</th>\n",
       "      <th>species</th>\n",
       "    </tr>\n",
       "  </thead>\n",
       "  <tbody>\n",
       "    <tr>\n",
       "      <th>145</th>\n",
       "      <td>6.7</td>\n",
       "      <td>3.0</td>\n",
       "      <td>5.2</td>\n",
       "      <td>2.3</td>\n",
       "      <td>Iris-virginica</td>\n",
       "    </tr>\n",
       "    <tr>\n",
       "      <th>146</th>\n",
       "      <td>6.3</td>\n",
       "      <td>2.5</td>\n",
       "      <td>5.0</td>\n",
       "      <td>1.9</td>\n",
       "      <td>Iris-virginica</td>\n",
       "    </tr>\n",
       "    <tr>\n",
       "      <th>147</th>\n",
       "      <td>6.5</td>\n",
       "      <td>3.0</td>\n",
       "      <td>5.2</td>\n",
       "      <td>2.0</td>\n",
       "      <td>Iris-virginica</td>\n",
       "    </tr>\n",
       "    <tr>\n",
       "      <th>148</th>\n",
       "      <td>6.2</td>\n",
       "      <td>3.4</td>\n",
       "      <td>5.4</td>\n",
       "      <td>2.3</td>\n",
       "      <td>Iris-virginica</td>\n",
       "    </tr>\n",
       "    <tr>\n",
       "      <th>149</th>\n",
       "      <td>5.9</td>\n",
       "      <td>3.0</td>\n",
       "      <td>5.1</td>\n",
       "      <td>1.8</td>\n",
       "      <td>Iris-virginica</td>\n",
       "    </tr>\n",
       "  </tbody>\n",
       "</table>\n",
       "</div>"
      ],
      "text/plain": [
       "     sepal_length  sepal_width  petal_length  petal_width         species\n",
       "145           6.7          3.0           5.2          2.3  Iris-virginica\n",
       "146           6.3          2.5           5.0          1.9  Iris-virginica\n",
       "147           6.5          3.0           5.2          2.0  Iris-virginica\n",
       "148           6.2          3.4           5.4          2.3  Iris-virginica\n",
       "149           5.9          3.0           5.1          1.8  Iris-virginica"
      ]
     },
     "execution_count": 8,
     "metadata": {},
     "output_type": "execute_result"
    }
   ],
   "source": [
    "iris.tail()"
   ]
  },
  {
   "cell_type": "markdown",
   "id": "5cb3b71c",
   "metadata": {},
   "source": [
    "# Model 1: for Boston dataset"
   ]
  },
  {
   "cell_type": "code",
   "execution_count": 9,
   "id": "cb216df7",
   "metadata": {},
   "outputs": [
    {
     "data": {
      "text/plain": [
       "Index(['CRIM', 'ZN', 'INDUS', 'CHAS', 'NX', 'RM', 'AGE', 'DIS', 'RAD', 'TAX',\n",
       "       'PTRATIO', 'B', 'LSTAT', 'MEDV'],\n",
       "      dtype='object')"
      ]
     },
     "execution_count": 9,
     "metadata": {},
     "output_type": "execute_result"
    }
   ],
   "source": [
    "boston.columns"
   ]
  },
  {
   "cell_type": "code",
   "execution_count": 11,
   "id": "98afcd84",
   "metadata": {},
   "outputs": [],
   "source": [
    "y=boston['MEDV']\n",
    "x=boston[['CRIM', 'ZN', 'INDUS', 'CHAS', 'NX', 'RM', 'AGE', 'DIS', 'RAD', 'TAX',\n",
    "       'PTRATIO', 'B', 'LSTAT']]"
   ]
  },
  {
   "cell_type": "markdown",
   "id": "f07195a0",
   "metadata": {},
   "source": [
    "### Get X Variables Standardized"
   ]
  },
  {
   "cell_type": "code",
   "execution_count": 12,
   "id": "05e8771e",
   "metadata": {},
   "outputs": [
    {
     "data": {
      "text/html": [
       "<div>\n",
       "<style scoped>\n",
       "    .dataframe tbody tr th:only-of-type {\n",
       "        vertical-align: middle;\n",
       "    }\n",
       "\n",
       "    .dataframe tbody tr th {\n",
       "        vertical-align: top;\n",
       "    }\n",
       "\n",
       "    .dataframe thead th {\n",
       "        text-align: right;\n",
       "    }\n",
       "</style>\n",
       "<table border=\"1\" class=\"dataframe\">\n",
       "  <thead>\n",
       "    <tr style=\"text-align: right;\">\n",
       "      <th></th>\n",
       "      <th>0</th>\n",
       "      <th>1</th>\n",
       "      <th>2</th>\n",
       "      <th>3</th>\n",
       "      <th>4</th>\n",
       "      <th>5</th>\n",
       "      <th>6</th>\n",
       "      <th>7</th>\n",
       "      <th>8</th>\n",
       "      <th>9</th>\n",
       "      <th>10</th>\n",
       "      <th>11</th>\n",
       "      <th>12</th>\n",
       "    </tr>\n",
       "  </thead>\n",
       "  <tbody>\n",
       "    <tr>\n",
       "      <th>count</th>\n",
       "      <td>5.060000e+02</td>\n",
       "      <td>5.060000e+02</td>\n",
       "      <td>5.060000e+02</td>\n",
       "      <td>5.060000e+02</td>\n",
       "      <td>5.060000e+02</td>\n",
       "      <td>5.060000e+02</td>\n",
       "      <td>5.060000e+02</td>\n",
       "      <td>5.060000e+02</td>\n",
       "      <td>5.060000e+02</td>\n",
       "      <td>5.060000e+02</td>\n",
       "      <td>5.060000e+02</td>\n",
       "      <td>5.060000e+02</td>\n",
       "      <td>5.060000e+02</td>\n",
       "    </tr>\n",
       "    <tr>\n",
       "      <th>mean</th>\n",
       "      <td>-8.337643e-17</td>\n",
       "      <td>3.306534e-16</td>\n",
       "      <td>2.804081e-16</td>\n",
       "      <td>-3.100287e-16</td>\n",
       "      <td>-8.071058e-16</td>\n",
       "      <td>-5.189086e-17</td>\n",
       "      <td>-2.650493e-16</td>\n",
       "      <td>8.293761e-17</td>\n",
       "      <td>1.514379e-15</td>\n",
       "      <td>-9.934960e-16</td>\n",
       "      <td>4.493551e-16</td>\n",
       "      <td>-1.451408e-16</td>\n",
       "      <td>-1.595123e-16</td>\n",
       "    </tr>\n",
       "    <tr>\n",
       "      <th>std</th>\n",
       "      <td>1.000990e+00</td>\n",
       "      <td>1.000990e+00</td>\n",
       "      <td>1.000990e+00</td>\n",
       "      <td>1.000990e+00</td>\n",
       "      <td>1.000990e+00</td>\n",
       "      <td>1.000990e+00</td>\n",
       "      <td>1.000990e+00</td>\n",
       "      <td>1.000990e+00</td>\n",
       "      <td>1.000990e+00</td>\n",
       "      <td>1.000990e+00</td>\n",
       "      <td>1.000990e+00</td>\n",
       "      <td>1.000990e+00</td>\n",
       "      <td>1.000990e+00</td>\n",
       "    </tr>\n",
       "    <tr>\n",
       "      <th>min</th>\n",
       "      <td>-4.197819e-01</td>\n",
       "      <td>-4.877224e-01</td>\n",
       "      <td>-1.557842e+00</td>\n",
       "      <td>-2.725986e-01</td>\n",
       "      <td>-1.465882e+00</td>\n",
       "      <td>-3.880249e+00</td>\n",
       "      <td>-2.335437e+00</td>\n",
       "      <td>-1.267069e+00</td>\n",
       "      <td>-9.828429e-01</td>\n",
       "      <td>-1.313990e+00</td>\n",
       "      <td>-2.707379e+00</td>\n",
       "      <td>-3.907193e+00</td>\n",
       "      <td>-1.531127e+00</td>\n",
       "    </tr>\n",
       "    <tr>\n",
       "      <th>25%</th>\n",
       "      <td>-4.109696e-01</td>\n",
       "      <td>-4.877224e-01</td>\n",
       "      <td>-8.676906e-01</td>\n",
       "      <td>-2.725986e-01</td>\n",
       "      <td>-9.130288e-01</td>\n",
       "      <td>-5.686303e-01</td>\n",
       "      <td>-8.374480e-01</td>\n",
       "      <td>-8.056878e-01</td>\n",
       "      <td>-6.379618e-01</td>\n",
       "      <td>-7.675760e-01</td>\n",
       "      <td>-4.880391e-01</td>\n",
       "      <td>2.050715e-01</td>\n",
       "      <td>-7.994200e-01</td>\n",
       "    </tr>\n",
       "    <tr>\n",
       "      <th>50%</th>\n",
       "      <td>-3.906665e-01</td>\n",
       "      <td>-4.877224e-01</td>\n",
       "      <td>-2.110985e-01</td>\n",
       "      <td>-2.725986e-01</td>\n",
       "      <td>-1.442174e-01</td>\n",
       "      <td>-1.084655e-01</td>\n",
       "      <td>3.173816e-01</td>\n",
       "      <td>-2.793234e-01</td>\n",
       "      <td>-5.230014e-01</td>\n",
       "      <td>-4.646726e-01</td>\n",
       "      <td>2.748590e-01</td>\n",
       "      <td>3.811865e-01</td>\n",
       "      <td>-1.812536e-01</td>\n",
       "    </tr>\n",
       "    <tr>\n",
       "      <th>75%</th>\n",
       "      <td>7.396560e-03</td>\n",
       "      <td>4.877224e-02</td>\n",
       "      <td>1.015999e+00</td>\n",
       "      <td>-2.725986e-01</td>\n",
       "      <td>5.986790e-01</td>\n",
       "      <td>4.827678e-01</td>\n",
       "      <td>9.067981e-01</td>\n",
       "      <td>6.623709e-01</td>\n",
       "      <td>1.661245e+00</td>\n",
       "      <td>1.530926e+00</td>\n",
       "      <td>8.065758e-01</td>\n",
       "      <td>4.336510e-01</td>\n",
       "      <td>6.030188e-01</td>\n",
       "    </tr>\n",
       "    <tr>\n",
       "      <th>max</th>\n",
       "      <td>9.933931e+00</td>\n",
       "      <td>3.804234e+00</td>\n",
       "      <td>2.422565e+00</td>\n",
       "      <td>3.668398e+00</td>\n",
       "      <td>2.732346e+00</td>\n",
       "      <td>3.555044e+00</td>\n",
       "      <td>1.117494e+00</td>\n",
       "      <td>3.960518e+00</td>\n",
       "      <td>1.661245e+00</td>\n",
       "      <td>1.798194e+00</td>\n",
       "      <td>1.638828e+00</td>\n",
       "      <td>4.410519e-01</td>\n",
       "      <td>3.548771e+00</td>\n",
       "    </tr>\n",
       "  </tbody>\n",
       "</table>\n",
       "</div>"
      ],
      "text/plain": [
       "                 0             1             2             3             4   \\\n",
       "count  5.060000e+02  5.060000e+02  5.060000e+02  5.060000e+02  5.060000e+02   \n",
       "mean  -8.337643e-17  3.306534e-16  2.804081e-16 -3.100287e-16 -8.071058e-16   \n",
       "std    1.000990e+00  1.000990e+00  1.000990e+00  1.000990e+00  1.000990e+00   \n",
       "min   -4.197819e-01 -4.877224e-01 -1.557842e+00 -2.725986e-01 -1.465882e+00   \n",
       "25%   -4.109696e-01 -4.877224e-01 -8.676906e-01 -2.725986e-01 -9.130288e-01   \n",
       "50%   -3.906665e-01 -4.877224e-01 -2.110985e-01 -2.725986e-01 -1.442174e-01   \n",
       "75%    7.396560e-03  4.877224e-02  1.015999e+00 -2.725986e-01  5.986790e-01   \n",
       "max    9.933931e+00  3.804234e+00  2.422565e+00  3.668398e+00  2.732346e+00   \n",
       "\n",
       "                 5             6             7             8             9   \\\n",
       "count  5.060000e+02  5.060000e+02  5.060000e+02  5.060000e+02  5.060000e+02   \n",
       "mean  -5.189086e-17 -2.650493e-16  8.293761e-17  1.514379e-15 -9.934960e-16   \n",
       "std    1.000990e+00  1.000990e+00  1.000990e+00  1.000990e+00  1.000990e+00   \n",
       "min   -3.880249e+00 -2.335437e+00 -1.267069e+00 -9.828429e-01 -1.313990e+00   \n",
       "25%   -5.686303e-01 -8.374480e-01 -8.056878e-01 -6.379618e-01 -7.675760e-01   \n",
       "50%   -1.084655e-01  3.173816e-01 -2.793234e-01 -5.230014e-01 -4.646726e-01   \n",
       "75%    4.827678e-01  9.067981e-01  6.623709e-01  1.661245e+00  1.530926e+00   \n",
       "max    3.555044e+00  1.117494e+00  3.960518e+00  1.661245e+00  1.798194e+00   \n",
       "\n",
       "                 10            11            12  \n",
       "count  5.060000e+02  5.060000e+02  5.060000e+02  \n",
       "mean   4.493551e-16 -1.451408e-16 -1.595123e-16  \n",
       "std    1.000990e+00  1.000990e+00  1.000990e+00  \n",
       "min   -2.707379e+00 -3.907193e+00 -1.531127e+00  \n",
       "25%   -4.880391e-01  2.050715e-01 -7.994200e-01  \n",
       "50%    2.748590e-01  3.811865e-01 -1.812536e-01  \n",
       "75%    8.065758e-01  4.336510e-01  6.030188e-01  \n",
       "max    1.638828e+00  4.410519e-01  3.548771e+00  "
      ]
     },
     "execution_count": 12,
     "metadata": {},
     "output_type": "execute_result"
    }
   ],
   "source": [
    "from sklearn.preprocessing import StandardScaler \n",
    "mm=StandardScaler ()\n",
    "x=mm.fit_transform(x)\n",
    "(pd.DataFrame(x).describe())"
   ]
  },
  {
   "cell_type": "markdown",
   "id": "963f35d9",
   "metadata": {},
   "source": [
    "### get train test split"
   ]
  },
  {
   "cell_type": "code",
   "execution_count": 13,
   "id": "04d1d5f8",
   "metadata": {},
   "outputs": [
    {
     "data": {
      "text/plain": [
       "((354, 13), (152, 13), (354,), (152,))"
      ]
     },
     "execution_count": 13,
     "metadata": {},
     "output_type": "execute_result"
    }
   ],
   "source": [
    "from sklearn.model_selection import train_test_split\n",
    "x_train,x_test,y_train,y_test=train_test_split(x,y,test_size=0.3,random_state=2525)\n",
    "x_train.shape,x_test.shape, y_train.shape, y_test.shape"
   ]
  },
  {
   "cell_type": "markdown",
   "id": "ffe12852",
   "metadata": {},
   "source": [
    "# Get Model Train"
   ]
  },
  {
   "cell_type": "code",
   "execution_count": 14,
   "id": "875f963e",
   "metadata": {},
   "outputs": [],
   "source": [
    "from sklearn.neighbors import KNeighborsRegressor"
   ]
  },
  {
   "cell_type": "code",
   "execution_count": 15,
   "id": "08abcb5e",
   "metadata": {},
   "outputs": [],
   "source": [
    "model1=KNeighborsRegressor()"
   ]
  },
  {
   "cell_type": "code",
   "execution_count": 16,
   "id": "70571350",
   "metadata": {},
   "outputs": [
    {
     "data": {
      "text/plain": [
       "KNeighborsRegressor()"
      ]
     },
     "execution_count": 16,
     "metadata": {},
     "output_type": "execute_result"
    }
   ],
   "source": [
    "model1.fit(x_train,y_train)"
   ]
  },
  {
   "cell_type": "markdown",
   "id": "58e5f83e",
   "metadata": {},
   "source": [
    "## Get Model Prediction"
   ]
  },
  {
   "cell_type": "code",
   "execution_count": 18,
   "id": "01072199",
   "metadata": {},
   "outputs": [
    {
     "data": {
      "text/plain": [
       "(152,)"
      ]
     },
     "execution_count": 18,
     "metadata": {},
     "output_type": "execute_result"
    }
   ],
   "source": [
    "y_pred=model1.predict(x_test)\n",
    "y_pred.shape"
   ]
  },
  {
   "cell_type": "code",
   "execution_count": 19,
   "id": "de16a44c",
   "metadata": {},
   "outputs": [
    {
     "data": {
      "text/plain": [
       "array([32.16, 26.48, 13.46, 41.28, 16.24, 23.62, 24.4 , 26.78, 14.22,\n",
       "       20.7 , 21.52, 21.34, 33.22, 25.18,  8.1 , 20.72, 20.98, 19.12,\n",
       "       21.14, 16.28, 10.18, 25.06, 19.54, 21.78, 24.18, 23.52, 22.14,\n",
       "       21.28, 23.82, 25.58, 12.66, 25.88, 20.68, 11.  , 16.24, 19.8 ,\n",
       "       28.88, 29.26, 10.36, 24.14, 19.22, 21.5 , 26.48, 37.3 , 21.36,\n",
       "       23.12, 41.28, 30.38, 24.16, 32.42, 25.34, 19.82, 17.9 , 12.62,\n",
       "       18.78, 20.46, 20.1 , 24.06, 23.4 , 23.78, 18.4 , 37.3 , 36.84,\n",
       "       25.12, 20.08, 26.76, 26.06, 21.78, 37.3 , 21.44, 19.8 , 28.08,\n",
       "       30.34, 32.8 , 22.74, 30.34, 20.16, 19.82, 12.7 , 26.26, 29.6 ,\n",
       "       28.28, 22.9 , 28.28, 23.62, 14.26, 20.02, 22.48, 17.66, 24.38,\n",
       "       21.94, 39.12, 31.52, 26.94, 20.16, 18.78, 22.9 , 25.4 , 14.82,\n",
       "       38.62, 17.92, 19.24, 25.32, 20.64, 12.94, 13.98, 22.18, 23.36,\n",
       "       19.12, 24.34, 21.72, 22.36, 24.82, 28.06, 23.62,  9.16, 18.98,\n",
       "       22.64, 43.3 , 12.36, 18.68, 21.3 , 20.58, 22.6 , 24.78, 20.88,\n",
       "       29.2 , 16.26, 10.5 , 43.22, 17.36, 30.14, 37.76, 17.98, 13.7 ,\n",
       "       21.52, 13.28, 25.8 , 18.14, 18.78, 12.8 , 24.18, 41.46, 20.08,\n",
       "       23.84, 13.7 , 13.96, 22.74, 43.06, 21.46, 22.86, 18.92])"
      ]
     },
     "execution_count": 19,
     "metadata": {},
     "output_type": "execute_result"
    }
   ],
   "source": [
    "y_pred"
   ]
  },
  {
   "cell_type": "markdown",
   "id": "946fab19",
   "metadata": {},
   "source": [
    "## Get Model Evaluation"
   ]
  },
  {
   "cell_type": "code",
   "execution_count": 20,
   "id": "a1f80784",
   "metadata": {},
   "outputs": [],
   "source": [
    "from sklearn.metrics import mean_squared_error, mean_absolute_error"
   ]
  },
  {
   "cell_type": "code",
   "execution_count": 21,
   "id": "8a5a8470",
   "metadata": {},
   "outputs": [
    {
     "data": {
      "text/plain": [
       "22.45169736842105"
      ]
     },
     "execution_count": 21,
     "metadata": {},
     "output_type": "execute_result"
    }
   ],
   "source": [
    "mean_squared_error(y_test,y_pred)"
   ]
  },
  {
   "cell_type": "code",
   "execution_count": 22,
   "id": "3244629e",
   "metadata": {},
   "outputs": [
    {
     "data": {
      "text/plain": [
       "2.946710526315789"
      ]
     },
     "execution_count": 22,
     "metadata": {},
     "output_type": "execute_result"
    }
   ],
   "source": [
    "mean_absolute_error(y_test,y_pred)"
   ]
  },
  {
   "cell_type": "markdown",
   "id": "20d8e5ac",
   "metadata": {},
   "source": [
    "### finding best k value"
   ]
  },
  {
   "cell_type": "code",
   "execution_count": 26,
   "id": "36ee734f",
   "metadata": {},
   "outputs": [],
   "source": [
    "error_rate=[]\n",
    "for i in range(1,41):\n",
    "    knn=KNeighborsRegressor(n_neighbors=i)\n",
    "    knn.fit(x_train,y_train)\n",
    "    pred_i=knn.predict(x_test)\n",
    "    error_rate.append(mean_absolute_error(y_test,pred_i))       "
   ]
  },
  {
   "cell_type": "code",
   "execution_count": 27,
   "id": "e132bac5",
   "metadata": {},
   "outputs": [
    {
     "data": {
      "text/plain": [
       "[3.0703947368421054,\n",
       " 2.9651315789473687,\n",
       " 2.7907894736842107,\n",
       " 2.8692434210526314,\n",
       " 2.946710526315789,\n",
       " 3.0283991228070177,\n",
       " 3.030733082706767,\n",
       " 3.0467927631578946,\n",
       " 2.9990497076023397,\n",
       " 3.042894736842105,\n",
       " 3.0638755980861245,\n",
       " 3.0733004385964917,\n",
       " 3.1038967611336035,\n",
       " 3.1162124060150385,\n",
       " 3.1870175438596497,\n",
       " 3.234539473684211,\n",
       " 3.270433436532508,\n",
       " 3.299926900584795,\n",
       " 3.320983379501385,\n",
       " 3.344703947368421,\n",
       " 3.3595238095238096,\n",
       " 3.361812200956938,\n",
       " 3.4053775743707093,\n",
       " 3.437225877192982,\n",
       " 3.42828947368421,\n",
       " 3.455946356275303,\n",
       " 3.464473684210526,\n",
       " 3.5092810150375935,\n",
       " 3.5167196007259527,\n",
       " 3.5958771929824556,\n",
       " 3.6250424448217315,\n",
       " 3.6663240131578947,\n",
       " 3.6843301435406697,\n",
       " 3.698413312693498,\n",
       " 3.703571428571428,\n",
       " 3.737244152046783,\n",
       " 3.766002844950213,\n",
       " 3.806994459833795,\n",
       " 3.803711201079622,\n",
       " 3.845838815789473]"
      ]
     },
     "execution_count": 27,
     "metadata": {},
     "output_type": "execute_result"
    }
   ],
   "source": [
    "error_rate"
   ]
  },
  {
   "cell_type": "markdown",
   "id": "c22ac295",
   "metadata": {},
   "source": [
    "### plotting the k"
   ]
  },
  {
   "cell_type": "code",
   "execution_count": 29,
   "id": "2a462f75",
   "metadata": {},
   "outputs": [
    {
     "data": {
      "image/png": "[encoded data removed]",
      "text/plain": [
       "<Figure size 864x360 with 1 Axes>"
      ]
     },
     "metadata": {
      "needs_background": "light"
     },
     "output_type": "display_data"
    }
   ],
   "source": [
    "fig,ax=plt.subplots(figsize=(12,5))\n",
    "ax.plot(range(1,41),error_rate,color='red')\n",
    "plt.show()"
   ]
  },
  {
   "cell_type": "markdown",
   "id": "e1247b09",
   "metadata": {},
   "source": [
    "# Model 2: for IRIS dataset"
   ]
  },
  {
   "cell_type": "code",
   "execution_count": 30,
   "id": "a2fc0587",
   "metadata": {},
   "outputs": [
    {
     "data": {
      "text/plain": [
       "Index(['sepal_length', 'sepal_width', 'petal_length', 'petal_width',\n",
       "       'species'],\n",
       "      dtype='object')"
      ]
     },
     "execution_count": 30,
     "metadata": {},
     "output_type": "execute_result"
    }
   ],
   "source": [
    "iris.columns"
   ]
  },
  {
   "cell_type": "code",
   "execution_count": 31,
   "id": "f4e9350a",
   "metadata": {},
   "outputs": [],
   "source": [
    "x=iris.drop(['species'],axis=1)"
   ]
  },
  {
   "cell_type": "code",
   "execution_count": 32,
   "id": "e1722f41",
   "metadata": {},
   "outputs": [],
   "source": [
    "y=iris['species']"
   ]
  },
  {
   "cell_type": "markdown",
   "id": "8970f30c",
   "metadata": {},
   "source": [
    "### encoding the y label"
   ]
  },
  {
   "cell_type": "code",
   "execution_count": 34,
   "id": "26c10681",
   "metadata": {},
   "outputs": [
    {
     "data": {
      "text/plain": [
       "0    Iris-setosa\n",
       "1    Iris-setosa\n",
       "2    Iris-setosa\n",
       "3    Iris-setosa\n",
       "4    Iris-setosa\n",
       "Name: species, dtype: object"
      ]
     },
     "execution_count": 34,
     "metadata": {},
     "output_type": "execute_result"
    }
   ],
   "source": [
    "# before\n",
    "y.head()"
   ]
  },
  {
   "cell_type": "code",
   "execution_count": 36,
   "id": "e5999c28",
   "metadata": {},
   "outputs": [],
   "source": [
    "from sklearn.preprocessing import LabelEncoder\n",
    "le=LabelEncoder()\n",
    "y=le.fit_transform(y)"
   ]
  },
  {
   "cell_type": "markdown",
   "id": "b5904f72",
   "metadata": {},
   "source": [
    "# get train test split"
   ]
  },
  {
   "cell_type": "code",
   "execution_count": 52,
   "id": "9f6390dc",
   "metadata": {},
   "outputs": [
    {
     "data": {
      "text/plain": [
       "((105, 4), (45, 4), (105,), (45,))"
      ]
     },
     "execution_count": 52,
     "metadata": {},
     "output_type": "execute_result"
    }
   ],
   "source": [
    "from sklearn.model_selection import train_test_split\n",
    "x_train,x_test,y_train,y_test=train_test_split(x,y,test_size=0.3,random_state=2525)\n",
    "x_train.shape,x_test.shape, y_train.shape, y_test.shape"
   ]
  },
  {
   "cell_type": "markdown",
   "id": "ac4cebad",
   "metadata": {},
   "source": [
    "### Get X Variables Standardized"
   ]
  },
  {
   "cell_type": "code",
   "execution_count": 53,
   "id": "d3e783f5",
   "metadata": {},
   "outputs": [
    {
     "data": {
      "text/html": [
       "<div>\n",
       "<style scoped>\n",
       "    .dataframe tbody tr th:only-of-type {\n",
       "        vertical-align: middle;\n",
       "    }\n",
       "\n",
       "    .dataframe tbody tr th {\n",
       "        vertical-align: top;\n",
       "    }\n",
       "\n",
       "    .dataframe thead th {\n",
       "        text-align: right;\n",
       "    }\n",
       "</style>\n",
       "<table border=\"1\" class=\"dataframe\">\n",
       "  <thead>\n",
       "    <tr style=\"text-align: right;\">\n",
       "      <th></th>\n",
       "      <th>0</th>\n",
       "      <th>1</th>\n",
       "      <th>2</th>\n",
       "      <th>3</th>\n",
       "    </tr>\n",
       "  </thead>\n",
       "  <tbody>\n",
       "    <tr>\n",
       "      <th>count</th>\n",
       "      <td>1.500000e+02</td>\n",
       "      <td>1.500000e+02</td>\n",
       "      <td>1.500000e+02</td>\n",
       "      <td>1.500000e+02</td>\n",
       "    </tr>\n",
       "    <tr>\n",
       "      <th>mean</th>\n",
       "      <td>1.049161e-16</td>\n",
       "      <td>-9.150088e-17</td>\n",
       "      <td>-2.649732e-16</td>\n",
       "      <td>1.609823e-15</td>\n",
       "    </tr>\n",
       "    <tr>\n",
       "      <th>std</th>\n",
       "      <td>1.003350e+00</td>\n",
       "      <td>1.003350e+00</td>\n",
       "      <td>1.003350e+00</td>\n",
       "      <td>1.003350e+00</td>\n",
       "    </tr>\n",
       "    <tr>\n",
       "      <th>min</th>\n",
       "      <td>-1.870024e+00</td>\n",
       "      <td>-2.438987e+00</td>\n",
       "      <td>-1.568735e+00</td>\n",
       "      <td>-1.444450e+00</td>\n",
       "    </tr>\n",
       "    <tr>\n",
       "      <th>25%</th>\n",
       "      <td>-9.006812e-01</td>\n",
       "      <td>-5.877635e-01</td>\n",
       "      <td>-1.227541e+00</td>\n",
       "      <td>-1.181504e+00</td>\n",
       "    </tr>\n",
       "    <tr>\n",
       "      <th>50%</th>\n",
       "      <td>-5.250608e-02</td>\n",
       "      <td>-1.249576e-01</td>\n",
       "      <td>3.362659e-01</td>\n",
       "      <td>1.332259e-01</td>\n",
       "    </tr>\n",
       "    <tr>\n",
       "      <th>75%</th>\n",
       "      <td>6.745011e-01</td>\n",
       "      <td>5.692513e-01</td>\n",
       "      <td>7.627586e-01</td>\n",
       "      <td>7.905908e-01</td>\n",
       "    </tr>\n",
       "    <tr>\n",
       "      <th>max</th>\n",
       "      <td>2.492019e+00</td>\n",
       "      <td>3.114684e+00</td>\n",
       "      <td>1.786341e+00</td>\n",
       "      <td>1.710902e+00</td>\n",
       "    </tr>\n",
       "  </tbody>\n",
       "</table>\n",
       "</div>"
      ],
      "text/plain": [
       "                  0             1             2             3\n",
       "count  1.500000e+02  1.500000e+02  1.500000e+02  1.500000e+02\n",
       "mean   1.049161e-16 -9.150088e-17 -2.649732e-16  1.609823e-15\n",
       "std    1.003350e+00  1.003350e+00  1.003350e+00  1.003350e+00\n",
       "min   -1.870024e+00 -2.438987e+00 -1.568735e+00 -1.444450e+00\n",
       "25%   -9.006812e-01 -5.877635e-01 -1.227541e+00 -1.181504e+00\n",
       "50%   -5.250608e-02 -1.249576e-01  3.362659e-01  1.332259e-01\n",
       "75%    6.745011e-01  5.692513e-01  7.627586e-01  7.905908e-01\n",
       "max    2.492019e+00  3.114684e+00  1.786341e+00  1.710902e+00"
      ]
     },
     "execution_count": 53,
     "metadata": {},
     "output_type": "execute_result"
    }
   ],
   "source": [
    "from sklearn.preprocessing import StandardScaler \n",
    "mm=StandardScaler ()\n",
    "x=mm.fit_transform(x)\n",
    "(pd.DataFrame(x).describe())"
   ]
  },
  {
   "cell_type": "markdown",
   "id": "8ff1513b",
   "metadata": {},
   "source": [
    "### Get Model Train"
   ]
  },
  {
   "cell_type": "code",
   "execution_count": 54,
   "id": "b6ddda3b",
   "metadata": {},
   "outputs": [
    {
     "data": {
      "text/plain": [
       "KNeighborsClassifier()"
      ]
     },
     "execution_count": 54,
     "metadata": {},
     "output_type": "execute_result"
    }
   ],
   "source": [
    "from sklearn.neighbors import KNeighborsClassifier\n",
    "model2=KNeighborsClassifier()\n",
    "model2.fit(x_train,y_train)"
   ]
  },
  {
   "cell_type": "markdown",
   "id": "34ebacc3",
   "metadata": {},
   "source": [
    "### Get Model Prediction"
   ]
  },
  {
   "cell_type": "code",
   "execution_count": 55,
   "id": "6d98a13f",
   "metadata": {},
   "outputs": [
    {
     "data": {
      "text/plain": [
       "(45,)"
      ]
     },
     "execution_count": 55,
     "metadata": {},
     "output_type": "execute_result"
    }
   ],
   "source": [
    "y_pred=model2.predict(x_test)\n",
    "y_pred.shape"
   ]
  },
  {
   "cell_type": "markdown",
   "id": "261fc3c1",
   "metadata": {},
   "source": [
    "### Get Model Evaluation"
   ]
  },
  {
   "cell_type": "code",
   "execution_count": 56,
   "id": "41334e11",
   "metadata": {},
   "outputs": [],
   "source": [
    "from sklearn.metrics import classification_report,confusion_matrix"
   ]
  },
  {
   "cell_type": "code",
   "execution_count": 57,
   "id": "fa91d866",
   "metadata": {},
   "outputs": [
    {
     "name": "stdout",
     "output_type": "stream",
     "text": [
      "[[16  0  0]\n",
      " [ 0 14  3]\n",
      " [ 0  1 11]]\n"
     ]
    }
   ],
   "source": [
    "print(confusion_matrix(y_test,y_pred))"
   ]
  },
  {
   "cell_type": "code",
   "execution_count": 58,
   "id": "c3f52ddb",
   "metadata": {},
   "outputs": [
    {
     "name": "stdout",
     "output_type": "stream",
     "text": [
      "              precision    recall  f1-score   support\n",
      "\n",
      "           0       1.00      1.00      1.00        16\n",
      "           1       0.93      0.82      0.87        17\n",
      "           2       0.79      0.92      0.85        12\n",
      "\n",
      "    accuracy                           0.91        45\n",
      "   macro avg       0.91      0.91      0.91        45\n",
      "weighted avg       0.92      0.91      0.91        45\n",
      "\n"
     ]
    }
   ],
   "source": [
    "print(classification_report(y_test,y_pred))"
   ]
  },
  {
   "cell_type": "markdown",
   "id": "2c7f801b",
   "metadata": {},
   "source": [
    "## finding best k value"
   ]
  },
  {
   "cell_type": "code",
   "execution_count": 61,
   "id": "e6fd1d99",
   "metadata": {},
   "outputs": [],
   "source": [
    "error_rate=[]\n",
    "for i in range(1,41):\n",
    "    knn = KNeighborsClassifier(n_neighbors=i)\n",
    "    knn.fit(x_train,y_train)\n",
    "    pred_i = knn.predict(x_test)\n",
    "    error_rate.append(np.mean(pred_i != y_test))    "
   ]
  },
  {
   "cell_type": "code",
   "execution_count": 62,
   "id": "8e794795",
   "metadata": {},
   "outputs": [
    {
     "data": {
      "text/plain": [
       "[0.08888888888888889,\n",
       " 0.08888888888888889,\n",
       " 0.08888888888888889,\n",
       " 0.08888888888888889,\n",
       " 0.08888888888888889,\n",
       " 0.044444444444444446,\n",
       " 0.06666666666666667,\n",
       " 0.06666666666666667,\n",
       " 0.06666666666666667,\n",
       " 0.06666666666666667,\n",
       " 0.06666666666666667,\n",
       " 0.06666666666666667,\n",
       " 0.06666666666666667,\n",
       " 0.06666666666666667,\n",
       " 0.08888888888888889,\n",
       " 0.08888888888888889,\n",
       " 0.08888888888888889,\n",
       " 0.044444444444444446,\n",
       " 0.022222222222222223,\n",
       " 0.044444444444444446,\n",
       " 0.044444444444444446,\n",
       " 0.044444444444444446,\n",
       " 0.044444444444444446,\n",
       " 0.044444444444444446,\n",
       " 0.06666666666666667,\n",
       " 0.06666666666666667,\n",
       " 0.06666666666666667,\n",
       " 0.06666666666666667,\n",
       " 0.06666666666666667,\n",
       " 0.08888888888888889,\n",
       " 0.06666666666666667,\n",
       " 0.08888888888888889,\n",
       " 0.06666666666666667,\n",
       " 0.08888888888888889,\n",
       " 0.06666666666666667,\n",
       " 0.08888888888888889,\n",
       " 0.06666666666666667,\n",
       " 0.08888888888888889,\n",
       " 0.08888888888888889,\n",
       " 0.08888888888888889]"
      ]
     },
     "execution_count": 62,
     "metadata": {},
     "output_type": "execute_result"
    }
   ],
   "source": [
    "error_rate"
   ]
  },
  {
   "cell_type": "code",
   "execution_count": 69,
   "id": "42b6fb87",
   "metadata": {},
   "outputs": [
    {
     "data": {
      "text/plain": [
       "Text(0, 0.5, 'Error Rate')"
      ]
     },
     "execution_count": 69,
     "metadata": {},
     "output_type": "execute_result"
    },
    {
     "data": {
      "image/png": "[encoded data removed]",
      "text/plain": [
       "<Figure size 720x432 with 1 Axes>"
      ]
     },
     "metadata": {
      "needs_background": "light"
     },
     "output_type": "display_data"
    }
   ],
   "source": [
    "plt.figure(figsize=(10,6))\n",
    "plt.plot(range(1,41),error_rate,color=\"blue\", linestyle=\"dashed\", marker=\"o\",markerfacecolor=\"red\", markersize=10)\n",
    "plt.title(\"Error Rate vs. K Value\")\n",
    "plt.xlabel(\"K\")\n",
    "plt.ylabel(\"Error Rate\")"
   ]
  },
  {
   "cell_type": "code",
   "execution_count": null,
   "id": "6bc42dcf",
   "metadata": {},
   "outputs": [],
   "source": []
  }
 ],
 "metadata": {
  "kernelspec": {
   "display_name": "Python 3 (ipykernel)",
   "language": "python",
   "name": "python3"
  },
  "language_info": {
   "codemirror_mode": {
    "name": "ipython",
    "version": 3
   },
   "file_extension": ".py",
   "mimetype": "text/x-python",
   "name": "python",
   "nbconvert_exporter": "python",
   "pygments_lexer": "ipython3",
   "version": "3.9.7"
  }
 },
 "nbformat": 4,
 "nbformat_minor": 5
}
